{
 "cells": [
  {
   "cell_type": "code",
   "execution_count": 1,
   "id": "692f4fe4-1397-49fe-9915-53ce2ff72c09",
   "metadata": {},
   "outputs": [],
   "source": [
    "import numpy as np"
   ]
  },
  {
   "cell_type": "code",
   "execution_count": 2,
   "id": "8437bf67-0186-41ba-80eb-8ad418b015c6",
   "metadata": {},
   "outputs": [],
   "source": [
    "a1d = np.array([1,2,3])"
   ]
  },
  {
   "cell_type": "code",
   "execution_count": 3,
   "id": "b870ab00-8cb8-4306-a8fc-b17ce62a7722",
   "metadata": {},
   "outputs": [
    {
     "data": {
      "text/plain": [
       "array([1, 2, 3])"
      ]
     },
     "execution_count": 3,
     "metadata": {},
     "output_type": "execute_result"
    }
   ],
   "source": [
    "a1d"
   ]
  },
  {
   "cell_type": "code",
   "execution_count": 4,
   "id": "954be1ba-eb7f-4829-bf5b-9bb87ffe81fb",
   "metadata": {},
   "outputs": [
    {
     "data": {
      "text/plain": [
       "numpy.ndarray"
      ]
     },
     "execution_count": 4,
     "metadata": {},
     "output_type": "execute_result"
    }
   ],
   "source": [
    "type(a1d)"
   ]
  },
  {
   "cell_type": "code",
   "execution_count": 5,
   "id": "69df858e-c062-4561-933b-4be802da9ebe",
   "metadata": {},
   "outputs": [],
   "source": [
    "a2d = np.array([[1,2,3],[5,7,9]])"
   ]
  },
  {
   "cell_type": "code",
   "execution_count": 6,
   "id": "ccc6ef82-2e2e-40d9-a013-81360a592492",
   "metadata": {},
   "outputs": [
    {
     "data": {
      "text/plain": [
       "array([[1, 2, 3],\n",
       "       [5, 7, 9]])"
      ]
     },
     "execution_count": 6,
     "metadata": {},
     "output_type": "execute_result"
    }
   ],
   "source": [
    "a2d"
   ]
  },
  {
   "cell_type": "code",
   "execution_count": 7,
   "id": "e2388558-fefd-4a96-889e-9af052002faa",
   "metadata": {},
   "outputs": [],
   "source": [
    "a3d = np.array([[[1.1,1,2,3],[1,2,3,6]],[[1.1,1,2,3],[1,2,3,6]]])"
   ]
  },
  {
   "cell_type": "code",
   "execution_count": 8,
   "id": "cb7a678d-c6bc-4f1d-b508-06448352848a",
   "metadata": {},
   "outputs": [
    {
     "data": {
      "text/plain": [
       "array([[[1.1, 1. , 2. , 3. ],\n",
       "        [1. , 2. , 3. , 6. ]],\n",
       "\n",
       "       [[1.1, 1. , 2. , 3. ],\n",
       "        [1. , 2. , 3. , 6. ]]])"
      ]
     },
     "execution_count": 8,
     "metadata": {},
     "output_type": "execute_result"
    }
   ],
   "source": [
    "a3d"
   ]
  },
  {
   "cell_type": "code",
   "execution_count": 9,
   "id": "f7daaddc-5c56-4b59-bf10-6995030705e3",
   "metadata": {},
   "outputs": [
    {
     "data": {
      "text/plain": [
       "(2, 2, 4)"
      ]
     },
     "execution_count": 9,
     "metadata": {},
     "output_type": "execute_result"
    }
   ],
   "source": [
    "a3d.shape"
   ]
  },
  {
   "cell_type": "code",
   "execution_count": 10,
   "id": "5c7095ca-3e28-437e-96a2-e5b292ba98ea",
   "metadata": {},
   "outputs": [
    {
     "data": {
      "text/plain": [
       "(2, 3)"
      ]
     },
     "execution_count": 10,
     "metadata": {},
     "output_type": "execute_result"
    }
   ],
   "source": [
    "a2d.shape"
   ]
  },
  {
   "cell_type": "code",
   "execution_count": 11,
   "id": "39168b26-c029-43c2-81a5-045906736b98",
   "metadata": {},
   "outputs": [
    {
     "data": {
      "text/plain": [
       "(3,)"
      ]
     },
     "execution_count": 11,
     "metadata": {},
     "output_type": "execute_result"
    }
   ],
   "source": [
    "a1d.shape"
   ]
  },
  {
   "cell_type": "code",
   "execution_count": 12,
   "id": "b8774606-185e-4f6a-9368-b84fd1c86be1",
   "metadata": {},
   "outputs": [
    {
     "data": {
      "text/plain": [
       "3"
      ]
     },
     "execution_count": 12,
     "metadata": {},
     "output_type": "execute_result"
    }
   ],
   "source": [
    "a3d.ndim"
   ]
  },
  {
   "cell_type": "code",
   "execution_count": 13,
   "id": "7cbf1923-0b52-4a38-acfb-e3d29f1f66cd",
   "metadata": {},
   "outputs": [
    {
     "data": {
      "text/plain": [
       "16"
      ]
     },
     "execution_count": 13,
     "metadata": {},
     "output_type": "execute_result"
    }
   ],
   "source": [
    "a3d.size"
   ]
  },
  {
   "cell_type": "code",
   "execution_count": 14,
   "id": "6e26dc32-111d-4178-b7b0-4125bbf9f8e3",
   "metadata": {},
   "outputs": [
    {
     "data": {
      "text/plain": [
       "numpy.ndarray"
      ]
     },
     "execution_count": 14,
     "metadata": {},
     "output_type": "execute_result"
    }
   ],
   "source": [
    "type(a3d)"
   ]
  },
  {
   "cell_type": "code",
   "execution_count": 15,
   "id": "956a7977-ce26-4bc1-99d4-67fbde4cfb49",
   "metadata": {},
   "outputs": [],
   "source": [
    "import pandas as pd"
   ]
  },
  {
   "cell_type": "code",
   "execution_count": 16,
   "id": "b6867c62-d442-485b-b942-292d21735053",
   "metadata": {},
   "outputs": [],
   "source": [
    "df= pd.DataFrame(a2d)"
   ]
  },
  {
   "cell_type": "code",
   "execution_count": 17,
   "id": "3602538c-230d-4d23-b572-4448228ee6ed",
   "metadata": {},
   "outputs": [
    {
     "data": {
      "text/html": [
       "<div>\n",
       "<style scoped>\n",
       "    .dataframe tbody tr th:only-of-type {\n",
       "        vertical-align: middle;\n",
       "    }\n",
       "\n",
       "    .dataframe tbody tr th {\n",
       "        vertical-align: top;\n",
       "    }\n",
       "\n",
       "    .dataframe thead th {\n",
       "        text-align: right;\n",
       "    }\n",
       "</style>\n",
       "<table border=\"1\" class=\"dataframe\">\n",
       "  <thead>\n",
       "    <tr style=\"text-align: right;\">\n",
       "      <th></th>\n",
       "      <th>0</th>\n",
       "      <th>1</th>\n",
       "      <th>2</th>\n",
       "    </tr>\n",
       "  </thead>\n",
       "  <tbody>\n",
       "    <tr>\n",
       "      <th>0</th>\n",
       "      <td>1</td>\n",
       "      <td>2</td>\n",
       "      <td>3</td>\n",
       "    </tr>\n",
       "    <tr>\n",
       "      <th>1</th>\n",
       "      <td>5</td>\n",
       "      <td>7</td>\n",
       "      <td>9</td>\n",
       "    </tr>\n",
       "  </tbody>\n",
       "</table>\n",
       "</div>"
      ],
      "text/plain": [
       "   0  1  2\n",
       "0  1  2  3\n",
       "1  5  7  9"
      ]
     },
     "execution_count": 17,
     "metadata": {},
     "output_type": "execute_result"
    }
   ],
   "source": [
    "df"
   ]
  },
  {
   "cell_type": "markdown",
   "id": "ce3d4f6e-84fa-4656-b53d-a10625f2432f",
   "metadata": {},
   "source": [
    "# Creating Numpy Arrays"
   ]
  },
  {
   "cell_type": "code",
   "execution_count": 18,
   "id": "7051ce9d-acae-4c91-944f-9de326e76d2c",
   "metadata": {},
   "outputs": [],
   "source": [
    "test_array = np.array({1,2,3})"
   ]
  },
  {
   "cell_type": "code",
   "execution_count": 19,
   "id": "fb01421e-14d4-45c0-90a9-89409b9c6504",
   "metadata": {},
   "outputs": [
    {
     "data": {
      "text/plain": [
       "array({1, 2, 3}, dtype=object)"
      ]
     },
     "execution_count": 19,
     "metadata": {},
     "output_type": "execute_result"
    }
   ],
   "source": [
    "test_array"
   ]
  },
  {
   "cell_type": "code",
   "execution_count": 20,
   "id": "3223d6f5-c995-40dd-8856-b16d504fd022",
   "metadata": {},
   "outputs": [],
   "source": [
    "# Zeros\n",
    "# ones\n",
    "# Randoms\n",
    "ones = np.ones((2,3))"
   ]
  },
  {
   "cell_type": "code",
   "execution_count": 21,
   "id": "d3d5ca3e-b16e-46cc-9214-a2123946176f",
   "metadata": {},
   "outputs": [
    {
     "data": {
      "text/plain": [
       "array([[1., 1., 1.],\n",
       "       [1., 1., 1.]])"
      ]
     },
     "execution_count": 21,
     "metadata": {},
     "output_type": "execute_result"
    }
   ],
   "source": [
    "ones"
   ]
  },
  {
   "cell_type": "code",
   "execution_count": 22,
   "id": "c359bf22-755e-4b07-aaf2-95e9e0cb8564",
   "metadata": {},
   "outputs": [],
   "source": [
    "zeros = np.zeros((2,3))"
   ]
  },
  {
   "cell_type": "code",
   "execution_count": 23,
   "id": "d8203ed0-5110-4c59-88af-b631365782cf",
   "metadata": {},
   "outputs": [
    {
     "data": {
      "text/plain": [
       "array([[0., 0., 0.],\n",
       "       [0., 0., 0.]])"
      ]
     },
     "execution_count": 23,
     "metadata": {},
     "output_type": "execute_result"
    }
   ],
   "source": [
    "zeros"
   ]
  },
  {
   "cell_type": "code",
   "execution_count": 24,
   "id": "74c2536c-afc8-4d1a-ab40-c66e57568f51",
   "metadata": {},
   "outputs": [],
   "source": [
    "range_array = np.arange(0,10,2)"
   ]
  },
  {
   "cell_type": "code",
   "execution_count": 25,
   "id": "5c9ed09d-fa96-45c6-83e3-97117d0c1e85",
   "metadata": {},
   "outputs": [
    {
     "data": {
      "text/plain": [
       "array([0, 2, 4, 6, 8])"
      ]
     },
     "execution_count": 25,
     "metadata": {},
     "output_type": "execute_result"
    }
   ],
   "source": [
    "range_array"
   ]
  },
  {
   "cell_type": "code",
   "execution_count": 26,
   "id": "0a18fba0-b766-4329-a578-ddda741e8b58",
   "metadata": {},
   "outputs": [],
   "source": [
    "random_matrix = np.random.randint(0, 10, size=(3,5))"
   ]
  },
  {
   "cell_type": "code",
   "execution_count": 27,
   "id": "f216c6fb-91fb-4211-a02e-bdc3691a7196",
   "metadata": {},
   "outputs": [
    {
     "data": {
      "text/plain": [
       "array([[5, 1, 6, 7, 4],\n",
       "       [3, 0, 1, 8, 4],\n",
       "       [8, 9, 5, 1, 2]], dtype=int32)"
      ]
     },
     "execution_count": 27,
     "metadata": {},
     "output_type": "execute_result"
    }
   ],
   "source": [
    "random_matrix"
   ]
  },
  {
   "cell_type": "code",
   "execution_count": 28,
   "id": "6172e863-6303-49b9-8273-06b6639aa75b",
   "metadata": {},
   "outputs": [
    {
     "data": {
      "text/plain": [
       "15"
      ]
     },
     "execution_count": 28,
     "metadata": {},
     "output_type": "execute_result"
    }
   ],
   "source": [
    "random_matrix.size"
   ]
  },
  {
   "cell_type": "code",
   "execution_count": 29,
   "id": "cc5b85f7-b251-4bb3-9f65-c3bbe008cb3f",
   "metadata": {},
   "outputs": [
    {
     "data": {
      "text/plain": [
       "(3, 5)"
      ]
     },
     "execution_count": 29,
     "metadata": {},
     "output_type": "execute_result"
    }
   ],
   "source": [
    "random_matrix.shape"
   ]
  },
  {
   "cell_type": "code",
   "execution_count": 30,
   "id": "2df85126-0d55-419f-91c1-407a92ab2baf",
   "metadata": {},
   "outputs": [],
   "source": [
    "# Seed\n",
    "np.random.seed(seed=0)\n",
    "rand_matrix = np.random.rand(3,5) # Auto range 0-1"
   ]
  },
  {
   "cell_type": "code",
   "execution_count": 31,
   "id": "1c1c3f20-7113-40bb-95f8-bcb36652797a",
   "metadata": {},
   "outputs": [
    {
     "data": {
      "text/plain": [
       "array([[0.5488135 , 0.71518937, 0.60276338, 0.54488318, 0.4236548 ],\n",
       "       [0.64589411, 0.43758721, 0.891773  , 0.96366276, 0.38344152],\n",
       "       [0.79172504, 0.52889492, 0.56804456, 0.92559664, 0.07103606]])"
      ]
     },
     "execution_count": 31,
     "metadata": {},
     "output_type": "execute_result"
    }
   ],
   "source": [
    "rand_matrix"
   ]
  },
  {
   "cell_type": "code",
   "execution_count": 32,
   "id": "785f022f-3f4f-4c1b-ae03-21acd313b642",
   "metadata": {},
   "outputs": [
    {
     "data": {
      "text/plain": [
       "np.float64(9.042960048565472)"
      ]
     },
     "execution_count": 32,
     "metadata": {},
     "output_type": "execute_result"
    }
   ],
   "source": [
    "rand_matrix.sum()"
   ]
  },
  {
   "cell_type": "markdown",
   "id": "3003be80-d90b-4142-b6ea-6d42b8dd501e",
   "metadata": {},
   "source": [
    "## Accessing Element"
   ]
  },
  {
   "cell_type": "code",
   "execution_count": 33,
   "id": "1e337a2c-034d-404c-b1fd-64a94bfa25d4",
   "metadata": {},
   "outputs": [
    {
     "data": {
      "text/plain": [
       "array([[[1.1, 1. , 2. , 3. ],\n",
       "        [1. , 2. , 3. , 6. ]],\n",
       "\n",
       "       [[1.1, 1. , 2. , 3. ],\n",
       "        [1. , 2. , 3. , 6. ]]])"
      ]
     },
     "execution_count": 33,
     "metadata": {},
     "output_type": "execute_result"
    }
   ],
   "source": [
    "a3d"
   ]
  },
  {
   "cell_type": "code",
   "execution_count": 34,
   "id": "3b46dfa0-cf25-40e5-b98f-0dd9c196e533",
   "metadata": {},
   "outputs": [
    {
     "data": {
      "text/plain": [
       "array([[1, 2, 3],\n",
       "       [5, 7, 9]])"
      ]
     },
     "execution_count": 34,
     "metadata": {},
     "output_type": "execute_result"
    }
   ],
   "source": [
    "a2d"
   ]
  },
  {
   "cell_type": "code",
   "execution_count": 35,
   "id": "7c39fa55-3599-4bb3-809c-b5dc7e50192b",
   "metadata": {},
   "outputs": [
    {
     "data": {
      "text/plain": [
       "array([1, 2, 3])"
      ]
     },
     "execution_count": 35,
     "metadata": {},
     "output_type": "execute_result"
    }
   ],
   "source": [
    "a2d[0]"
   ]
  },
  {
   "cell_type": "code",
   "execution_count": 36,
   "id": "864fdea4-1818-42fd-a5c3-33cdaee23c4a",
   "metadata": {},
   "outputs": [
    {
     "data": {
      "text/plain": [
       "array([5, 7, 9])"
      ]
     },
     "execution_count": 36,
     "metadata": {},
     "output_type": "execute_result"
    }
   ],
   "source": [
    "a2d[1]"
   ]
  },
  {
   "cell_type": "code",
   "execution_count": 37,
   "id": "d16b31ef-5a07-4166-b39f-456531624936",
   "metadata": {},
   "outputs": [
    {
     "data": {
      "text/plain": [
       "array([[1.1, 1. , 2. , 3. ],\n",
       "       [1. , 2. , 3. , 6. ]])"
      ]
     },
     "execution_count": 37,
     "metadata": {},
     "output_type": "execute_result"
    }
   ],
   "source": [
    "a3d[0]"
   ]
  },
  {
   "cell_type": "code",
   "execution_count": 38,
   "id": "668f7164-e86b-4ec8-a620-42fd5cc163fb",
   "metadata": {},
   "outputs": [
    {
     "data": {
      "text/plain": [
       "array([[1.1, 1. , 2. , 3. ],\n",
       "       [1. , 2. , 3. , 6. ]])"
      ]
     },
     "execution_count": 38,
     "metadata": {},
     "output_type": "execute_result"
    }
   ],
   "source": [
    "a3d[1]"
   ]
  },
  {
   "cell_type": "code",
   "execution_count": 39,
   "id": "1955ab60-01f2-4a04-98ef-09c9e5ef1d07",
   "metadata": {},
   "outputs": [
    {
     "data": {
      "text/plain": [
       "array([[[1.1, 1. , 2. , 3. ]],\n",
       "\n",
       "       [[1.1, 1. , 2. , 3. ]]])"
      ]
     },
     "execution_count": 39,
     "metadata": {},
     "output_type": "execute_result"
    }
   ],
   "source": [
    "a3d[:2 ,:1]"
   ]
  },
  {
   "cell_type": "code",
   "execution_count": 40,
   "id": "9e3d63dc-46ca-4561-99e0-57a7d257119f",
   "metadata": {},
   "outputs": [
    {
     "data": {
      "text/plain": [
       "array([[[1.1, 1. ]],\n",
       "\n",
       "       [[1.1, 1. ]]])"
      ]
     },
     "execution_count": 40,
     "metadata": {},
     "output_type": "execute_result"
    }
   ],
   "source": [
    "a3d[:2 ,:1,:2]"
   ]
  },
  {
   "cell_type": "code",
   "execution_count": 41,
   "id": "6d613e90-0f1b-4f6d-90cc-6fd4ab21ac16",
   "metadata": {},
   "outputs": [],
   "source": [
    "arandom = np.random.randint(10, size=(2,3,4,5))"
   ]
  },
  {
   "cell_type": "code",
   "execution_count": 42,
   "id": "a121700f-ed63-4ba0-a0f4-e41926e2aac8",
   "metadata": {},
   "outputs": [
    {
     "data": {
      "text/plain": [
       "array([[[[9, 4, 3, 0, 3],\n",
       "         [5, 0, 2, 3, 8],\n",
       "         [1, 3, 3, 3, 7],\n",
       "         [0, 1, 9, 9, 0]],\n",
       "\n",
       "        [[4, 7, 3, 2, 7],\n",
       "         [2, 0, 0, 4, 5],\n",
       "         [5, 6, 8, 4, 1],\n",
       "         [4, 9, 8, 1, 1]],\n",
       "\n",
       "        [[7, 9, 9, 3, 6],\n",
       "         [7, 2, 0, 3, 5],\n",
       "         [9, 4, 4, 6, 4],\n",
       "         [4, 3, 4, 4, 8]]],\n",
       "\n",
       "\n",
       "       [[[4, 3, 7, 5, 5],\n",
       "         [0, 1, 5, 9, 3],\n",
       "         [0, 5, 0, 1, 2],\n",
       "         [4, 2, 0, 3, 2]],\n",
       "\n",
       "        [[0, 7, 5, 9, 0],\n",
       "         [2, 7, 2, 9, 2],\n",
       "         [3, 3, 2, 3, 4],\n",
       "         [1, 2, 9, 1, 4]],\n",
       "\n",
       "        [[6, 8, 2, 3, 0],\n",
       "         [0, 6, 0, 6, 3],\n",
       "         [3, 8, 8, 8, 2],\n",
       "         [3, 2, 0, 8, 8]]]], dtype=int32)"
      ]
     },
     "execution_count": 42,
     "metadata": {},
     "output_type": "execute_result"
    }
   ],
   "source": [
    "arandom"
   ]
  },
  {
   "cell_type": "code",
   "execution_count": 43,
   "id": "784b6462-2234-418c-9775-90c66a7f88c6",
   "metadata": {},
   "outputs": [
    {
     "data": {
      "text/plain": [
       "array([[[[9]]]], dtype=int32)"
      ]
     },
     "execution_count": 43,
     "metadata": {},
     "output_type": "execute_result"
    }
   ],
   "source": [
    "arandom[:1,:1,:1,:1]"
   ]
  },
  {
   "cell_type": "markdown",
   "id": "13bafc40-8b83-42e0-bd51-fa0312444c99",
   "metadata": {},
   "source": [
    "# Manipulationm"
   ]
  },
  {
   "cell_type": "code",
   "execution_count": 44,
   "id": "1965ca82-d860-43d6-8245-daa1a9ccc93f",
   "metadata": {},
   "outputs": [
    {
     "data": {
      "text/plain": [
       "array([1, 2, 3])"
      ]
     },
     "execution_count": 44,
     "metadata": {},
     "output_type": "execute_result"
    }
   ],
   "source": [
    "a1d"
   ]
  },
  {
   "cell_type": "code",
   "execution_count": 45,
   "id": "ac2c8404-507e-402b-a7e0-5b6103ae7d03",
   "metadata": {},
   "outputs": [
    {
     "data": {
      "text/plain": [
       "array([[1., 1., 1.],\n",
       "       [1., 1., 1.]])"
      ]
     },
     "execution_count": 45,
     "metadata": {},
     "output_type": "execute_result"
    }
   ],
   "source": [
    "ones"
   ]
  },
  {
   "cell_type": "code",
   "execution_count": 46,
   "id": "56510b8e-a151-44da-b4d4-48a18faff50f",
   "metadata": {},
   "outputs": [
    {
     "data": {
      "text/plain": [
       "array([[2., 3., 4.],\n",
       "       [2., 3., 4.]])"
      ]
     },
     "execution_count": 46,
     "metadata": {},
     "output_type": "execute_result"
    }
   ],
   "source": [
    "a1d+ones"
   ]
  },
  {
   "cell_type": "code",
   "execution_count": 47,
   "id": "5ac2a384-8dab-4205-b1f8-0fb5c38d0906",
   "metadata": {},
   "outputs": [
    {
     "data": {
      "text/plain": [
       "array([[0., 1., 2.],\n",
       "       [0., 1., 2.]])"
      ]
     },
     "execution_count": 47,
     "metadata": {},
     "output_type": "execute_result"
    }
   ],
   "source": [
    "a1d-ones"
   ]
  },
  {
   "cell_type": "code",
   "execution_count": 48,
   "id": "4495aaec-2a8b-4e6c-a64a-c1d103179573",
   "metadata": {},
   "outputs": [
    {
     "data": {
      "text/plain": [
       "array([[1., 2., 3.],\n",
       "       [1., 2., 3.]])"
      ]
     },
     "execution_count": 48,
     "metadata": {},
     "output_type": "execute_result"
    }
   ],
   "source": [
    "a1d*ones"
   ]
  },
  {
   "cell_type": "code",
   "execution_count": 49,
   "id": "6424861c-a4d6-4e3b-a53d-ed12534a78a1",
   "metadata": {},
   "outputs": [
    {
     "data": {
      "text/plain": [
       "array([[1, 2, 3],\n",
       "       [5, 7, 9]])"
      ]
     },
     "execution_count": 49,
     "metadata": {},
     "output_type": "execute_result"
    }
   ],
   "source": [
    "a2d"
   ]
  },
  {
   "cell_type": "code",
   "execution_count": 50,
   "id": "c4c4c7f0-ef5a-4756-9383-2716540790be",
   "metadata": {},
   "outputs": [],
   "source": [
    "t = a3d[:2,:2,:3]"
   ]
  },
  {
   "cell_type": "code",
   "execution_count": 51,
   "id": "55a1fc64-b8c5-4199-a7f9-b39597c21d5a",
   "metadata": {},
   "outputs": [
    {
     "data": {
      "text/plain": [
       "array([[[ 1.1,  2. ,  6. ],\n",
       "        [ 5. , 14. , 27. ]],\n",
       "\n",
       "       [[ 1.1,  2. ,  6. ],\n",
       "        [ 5. , 14. , 27. ]]])"
      ]
     },
     "execution_count": 51,
     "metadata": {},
     "output_type": "execute_result"
    }
   ],
   "source": [
    "a2d*t"
   ]
  },
  {
   "cell_type": "code",
   "execution_count": 52,
   "id": "44adf9f5-8f5e-406d-949b-849fa4d6bf5d",
   "metadata": {},
   "outputs": [
    {
     "data": {
      "text/plain": [
       "array([[1.        , 1.        , 1.        ],\n",
       "       [0.2       , 0.28571429, 0.33333333]])"
      ]
     },
     "execution_count": 52,
     "metadata": {},
     "output_type": "execute_result"
    }
   ],
   "source": [
    "a1d/a2d"
   ]
  },
  {
   "cell_type": "code",
   "execution_count": 53,
   "id": "a2a168af-fc15-4983-b27a-5e39c40530d3",
   "metadata": {},
   "outputs": [
    {
     "data": {
      "text/plain": [
       "array([[1, 1, 1],\n",
       "       [0, 0, 0]])"
      ]
     },
     "execution_count": 53,
     "metadata": {},
     "output_type": "execute_result"
    }
   ],
   "source": [
    "a1d//a2d"
   ]
  },
  {
   "cell_type": "code",
   "execution_count": 54,
   "id": "2a1728ec-e620-4e0f-9931-a991fe6d0b88",
   "metadata": {},
   "outputs": [
    {
     "data": {
      "text/plain": [
       "array([1, 4, 9])"
      ]
     },
     "execution_count": 54,
     "metadata": {},
     "output_type": "execute_result"
    }
   ],
   "source": [
    "a1d**2"
   ]
  },
  {
   "cell_type": "code",
   "execution_count": 55,
   "id": "74493d6a-1f6b-43d7-a856-a7b5a60c1352",
   "metadata": {},
   "outputs": [
    {
     "data": {
      "text/plain": [
       "array([1, 4, 9])"
      ]
     },
     "execution_count": 55,
     "metadata": {},
     "output_type": "execute_result"
    }
   ],
   "source": [
    "np.square(a1d)"
   ]
  },
  {
   "cell_type": "code",
   "execution_count": 56,
   "id": "7c0c6b5f-7e7a-44e4-8399-7982e879a582",
   "metadata": {},
   "outputs": [
    {
     "data": {
      "text/plain": [
       "array([[2., 3., 4.],\n",
       "       [2., 3., 4.]])"
      ]
     },
     "execution_count": 56,
     "metadata": {},
     "output_type": "execute_result"
    }
   ],
   "source": [
    "np.add(a1d,ones)"
   ]
  },
  {
   "cell_type": "code",
   "execution_count": 57,
   "id": "e1c02f74-ad55-484d-b4de-2e7bcd1f9809",
   "metadata": {},
   "outputs": [
    {
     "data": {
      "text/plain": [
       "array([[1, 0, 1],\n",
       "       [1, 1, 1]])"
      ]
     },
     "execution_count": 57,
     "metadata": {},
     "output_type": "execute_result"
    }
   ],
   "source": [
    "a2d%2"
   ]
  },
  {
   "cell_type": "code",
   "execution_count": 58,
   "id": "3c933987-8468-4ea5-aa9a-81870163f138",
   "metadata": {},
   "outputs": [
    {
     "data": {
      "text/plain": [
       "array([14, 28, 42])"
      ]
     },
     "execution_count": 58,
     "metadata": {},
     "output_type": "execute_result"
    }
   ],
   "source": [
    "np.dot(np.dot(a1d, a1d), a1d)"
   ]
  },
  {
   "cell_type": "markdown",
   "id": "828a7441-39f8-4469-85dd-c7bd52e92b4d",
   "metadata": {},
   "source": [
    "# Aggregation"
   ]
  },
  {
   "cell_type": "code",
   "execution_count": 59,
   "id": "8c904643-57e0-4c17-968b-9ac14cbb7f1e",
   "metadata": {},
   "outputs": [
    {
     "data": {
      "text/plain": [
       "array([1, 2, 3])"
      ]
     },
     "execution_count": 59,
     "metadata": {},
     "output_type": "execute_result"
    }
   ],
   "source": [
    "a1d"
   ]
  },
  {
   "cell_type": "code",
   "execution_count": 60,
   "id": "ef51a360-60c6-46a4-8323-29e97e8d0b77",
   "metadata": {},
   "outputs": [
    {
     "data": {
      "text/plain": [
       "np.int64(6)"
      ]
     },
     "execution_count": 60,
     "metadata": {},
     "output_type": "execute_result"
    }
   ],
   "source": [
    "sum(a1d)  #This is python method :: Slower"
   ]
  },
  {
   "cell_type": "code",
   "execution_count": 61,
   "id": "a7bf873c-52b9-495b-b05d-fe9d9ce43469",
   "metadata": {},
   "outputs": [
    {
     "data": {
      "text/plain": [
       "np.int64(6)"
      ]
     },
     "execution_count": 61,
     "metadata": {},
     "output_type": "execute_result"
    }
   ],
   "source": [
    "np.sum(a1d) # This is numpy method :: faster"
   ]
  },
  {
   "cell_type": "code",
   "execution_count": 62,
   "id": "25831ea3-c27e-4bbc-a4a7-8e2883292d5f",
   "metadata": {},
   "outputs": [],
   "source": [
    "#Example\n",
    "lambi_array =np.random.random(10000)"
   ]
  },
  {
   "cell_type": "code",
   "execution_count": 63,
   "id": "715b6ffa-abcd-430d-98b5-d75604ad1f51",
   "metadata": {},
   "outputs": [
    {
     "data": {
      "text/plain": [
       "10000"
      ]
     },
     "execution_count": 63,
     "metadata": {},
     "output_type": "execute_result"
    }
   ],
   "source": [
    "lambi_array.size"
   ]
  },
  {
   "cell_type": "code",
   "execution_count": 64,
   "id": "403931b9-5801-49c3-b0f8-ea3468cc5824",
   "metadata": {},
   "outputs": [
    {
     "data": {
      "text/plain": [
       "array([0.57615733, 0.59204193, 0.57225191, 0.22308163, 0.95274901,\n",
       "       0.44712538, 0.84640867, 0.69947928, 0.29743695, 0.81379782,\n",
       "       0.39650574, 0.8811032 , 0.58127287, 0.88173536, 0.69253159,\n",
       "       0.72525428, 0.50132438, 0.95608363, 0.6439902 , 0.42385505])"
      ]
     },
     "execution_count": 64,
     "metadata": {},
     "output_type": "execute_result"
    }
   ],
   "source": [
    "lambi_array[:20]"
   ]
  },
  {
   "cell_type": "code",
   "execution_count": 65,
   "id": "89b973be-12f7-410d-9d4a-088205a81348",
   "metadata": {},
   "outputs": [
    {
     "name": "stdout",
     "output_type": "stream",
     "text": [
      "1.42 ms ± 62.8 μs per loop (mean ± std. dev. of 7 runs, 1,000 loops each)\n",
      "17.3 μs ± 709 ns per loop (mean ± std. dev. of 7 runs, 100,000 loops each)\n"
     ]
    }
   ],
   "source": [
    "%timeit sum(lambi_array)\n",
    "%timeit np.sum(lambi_array)"
   ]
  },
  {
   "cell_type": "code",
   "execution_count": 66,
   "id": "2662cf4e-9614-426a-b9f7-c298603504b2",
   "metadata": {},
   "outputs": [
    {
     "data": {
      "text/plain": [
       "np.int64(3)"
      ]
     },
     "execution_count": 66,
     "metadata": {},
     "output_type": "execute_result"
    }
   ],
   "source": [
    "np.max(a1d)\n"
   ]
  },
  {
   "cell_type": "code",
   "execution_count": 67,
   "id": "6381c2d4-088a-4491-b8ab-b6068a0468cd",
   "metadata": {},
   "outputs": [
    {
     "data": {
      "text/plain": [
       "np.int64(1)"
      ]
     },
     "execution_count": 67,
     "metadata": {},
     "output_type": "execute_result"
    }
   ],
   "source": [
    "np.min(a1d)"
   ]
  },
  {
   "cell_type": "code",
   "execution_count": 68,
   "id": "7c481e7a-b32f-4bdb-a913-ed4a16329ad7",
   "metadata": {},
   "outputs": [
    {
     "data": {
      "text/plain": [
       "np.float64(2.0)"
      ]
     },
     "execution_count": 68,
     "metadata": {},
     "output_type": "execute_result"
    }
   ],
   "source": [
    "# Mean\n",
    "# Std standard deviation\n",
    "# variance\n",
    "np.mean(a1d) # mean"
   ]
  },
  {
   "cell_type": "code",
   "execution_count": 69,
   "id": "72139aee-1067-4977-b6f2-2249914faf16",
   "metadata": {},
   "outputs": [
    {
     "data": {
      "text/plain": [
       "np.float64(0.6666666666666666)"
      ]
     },
     "execution_count": 69,
     "metadata": {},
     "output_type": "execute_result"
    }
   ],
   "source": [
    "np.var(a1d) # Variance"
   ]
  },
  {
   "cell_type": "code",
   "execution_count": 70,
   "id": "9de1898c-2f5e-44b4-ab3a-a18dfe7df142",
   "metadata": {},
   "outputs": [
    {
     "data": {
      "text/plain": [
       "np.float64(0.816496580927726)"
      ]
     },
     "execution_count": 70,
     "metadata": {},
     "output_type": "execute_result"
    }
   ],
   "source": [
    "np.sqrt(np.var(a1d)) #Standard Deviation"
   ]
  },
  {
   "cell_type": "code",
   "execution_count": 71,
   "id": "deee2541-83a5-4d13-8889-e0d73ff14bd8",
   "metadata": {},
   "outputs": [
    {
     "data": {
      "text/plain": [
       "np.float64(0.816496580927726)"
      ]
     },
     "execution_count": 71,
     "metadata": {},
     "output_type": "execute_result"
    }
   ],
   "source": [
    "np.std(a1d) #built in methods Standard Deviation"
   ]
  },
  {
   "cell_type": "markdown",
   "id": "5a9db1ba-4173-40f0-9957-cdc3ff73b5fb",
   "metadata": {},
   "source": [
    "# Matrix Multiplication\n",
    "## Dot Product vs Element wise multiplication"
   ]
  },
  {
   "cell_type": "code",
   "execution_count": 72,
   "id": "ad0ba5fb-8929-43de-9c8d-d7234fa709ab",
   "metadata": {},
   "outputs": [],
   "source": [
    "np.random.seed(seed=0)\n",
    "matrix_1 = np.random.randint(10,size=(4,3))\n",
    "matrix_2 = np.random.randint(10,size=(4,3))"
   ]
  },
  {
   "cell_type": "code",
   "execution_count": 73,
   "id": "6d9abf3d-66aa-483c-9c23-748e504fbd99",
   "metadata": {},
   "outputs": [
    {
     "data": {
      "text/plain": [
       "array([[5, 0, 3],\n",
       "       [3, 7, 9],\n",
       "       [3, 5, 2],\n",
       "       [4, 7, 6]], dtype=int32)"
      ]
     },
     "execution_count": 73,
     "metadata": {},
     "output_type": "execute_result"
    }
   ],
   "source": [
    "matrix_1"
   ]
  },
  {
   "cell_type": "code",
   "execution_count": 74,
   "id": "aa3c9807-1199-46da-8f1c-e4cd3f700b8c",
   "metadata": {},
   "outputs": [
    {
     "data": {
      "text/plain": [
       "array([[8, 8, 1],\n",
       "       [6, 7, 7],\n",
       "       [8, 1, 5],\n",
       "       [9, 8, 9]], dtype=int32)"
      ]
     },
     "execution_count": 74,
     "metadata": {},
     "output_type": "execute_result"
    }
   ],
   "source": [
    "matrix_2"
   ]
  },
  {
   "cell_type": "code",
   "execution_count": 75,
   "id": "f6ed71d9-60fe-4332-944a-ea042cdc9211",
   "metadata": {},
   "outputs": [],
   "source": [
    "# Element wise multiplication kia hoti hai"
   ]
  },
  {
   "cell_type": "code",
   "execution_count": 76,
   "id": "79724daa-d715-4117-8223-e8c9a6bbebad",
   "metadata": {},
   "outputs": [
    {
     "data": {
      "text/plain": [
       "array([[40,  0,  3],\n",
       "       [18, 49, 63],\n",
       "       [24,  5, 10],\n",
       "       [36, 56, 54]], dtype=int32)"
      ]
     },
     "execution_count": 76,
     "metadata": {},
     "output_type": "execute_result"
    }
   ],
   "source": [
    "matrix_1*matrix_2"
   ]
  },
  {
   "cell_type": "code",
   "execution_count": 77,
   "id": "1f7c9f0a-64ae-40ff-a880-0d088a301d2b",
   "metadata": {},
   "outputs": [
    {
     "data": {
      "text/plain": [
       "array([[5, 0, 3],\n",
       "       [3, 7, 9],\n",
       "       [3, 5, 2],\n",
       "       [4, 7, 6]], dtype=int32)"
      ]
     },
     "execution_count": 77,
     "metadata": {},
     "output_type": "execute_result"
    }
   ],
   "source": [
    "matrix_1"
   ]
  },
  {
   "cell_type": "code",
   "execution_count": 78,
   "id": "cb063e60-8d57-4f6e-a658-b8fedeae7b3b",
   "metadata": {},
   "outputs": [
    {
     "data": {
      "text/plain": [
       "array([[8, 8, 1],\n",
       "       [6, 7, 7],\n",
       "       [8, 1, 5],\n",
       "       [9, 8, 9]], dtype=int32)"
      ]
     },
     "execution_count": 78,
     "metadata": {},
     "output_type": "execute_result"
    }
   ],
   "source": [
    "matrix_2"
   ]
  },
  {
   "cell_type": "code",
   "execution_count": 79,
   "id": "27bfe22b-4739-49db-9607-d2af050551d6",
   "metadata": {},
   "outputs": [
    {
     "ename": "ValueError",
     "evalue": "shapes (4,3) and (4,3) not aligned: 3 (dim 1) != 4 (dim 0)",
     "output_type": "error",
     "traceback": [
      "\u001b[1;31m---------------------------------------------------------------------------\u001b[0m",
      "\u001b[1;31mValueError\u001b[0m                                Traceback (most recent call last)",
      "Cell \u001b[1;32mIn[79], line 1\u001b[0m\n\u001b[1;32m----> 1\u001b[0m \u001b[43mmatrix_1\u001b[49m\u001b[38;5;241;43m.\u001b[39;49m\u001b[43mdot\u001b[49m\u001b[43m(\u001b[49m\u001b[43mmatrix_2\u001b[49m\u001b[43m)\u001b[49m\n",
      "\u001b[1;31mValueError\u001b[0m: shapes (4,3) and (4,3) not aligned: 3 (dim 1) != 4 (dim 0)"
     ]
    }
   ],
   "source": [
    "matrix_1.dot(matrix_2)"
   ]
  },
  {
   "cell_type": "code",
   "execution_count": null,
   "id": "6781639d-726d-4324-a711-5a08479ccfa3",
   "metadata": {},
   "outputs": [],
   "source": [
    "matrix_1.dot(matrix_2.T)"
   ]
  },
  {
   "cell_type": "code",
   "execution_count": null,
   "id": "571f4e31-3fde-460b-990b-4a826baba27b",
   "metadata": {},
   "outputs": [],
   "source": [
    "matrix_1.shape,matrix_2.T.shape"
   ]
  },
  {
   "cell_type": "markdown",
   "id": "640bc514-f27a-499f-84ac-1a3899a30d49",
   "metadata": {},
   "source": [
    "# Reshape and Transpose"
   ]
  },
  {
   "cell_type": "code",
   "execution_count": null,
   "id": "3194f2a3-cf95-42e1-80a3-f55553243f25",
   "metadata": {},
   "outputs": [],
   "source": [
    "# transpose swap column into rows and rows to colums\n",
    "a2d"
   ]
  },
  {
   "cell_type": "code",
   "execution_count": null,
   "id": "9433a2ff-d264-4487-ba65-d2af8a2f9b6a",
   "metadata": {},
   "outputs": [],
   "source": [
    "a2d.T"
   ]
  },
  {
   "cell_type": "code",
   "execution_count": null,
   "id": "3ebb4f67-ce74-4342-920b-0514f422a53d",
   "metadata": {},
   "outputs": [],
   "source": [
    "a2d.T.shape"
   ]
  },
  {
   "cell_type": "code",
   "execution_count": null,
   "id": "9f63a267-6132-41d6-89c7-91441c97c3c0",
   "metadata": {},
   "outputs": [],
   "source": [
    "# Reshape\n",
    "a2d.reshape(2,3,1)"
   ]
  },
  {
   "cell_type": "code",
   "execution_count": null,
   "id": "8f240f85-3054-433e-8455-98ed4fc43a72",
   "metadata": {},
   "outputs": [],
   "source": [
    "a2d.reshape(2,3,1).shape"
   ]
  },
  {
   "cell_type": "markdown",
   "id": "3b37291e-34bb-4673-a5d8-7c263cf9f7cd",
   "metadata": {},
   "source": [
    "# Excercise"
   ]
  },
  {
   "cell_type": "code",
   "execution_count": null,
   "id": "21d0ea6e-0110-41e0-b2e3-dddee16ebe2f",
   "metadata": {},
   "outputs": [],
   "source": [
    "np.random.seed(seed=0)\n",
    "item_amount = np.random.randint(20,size=(5,3))\n",
    "item_amount"
   ]
  },
  {
   "cell_type": "code",
   "execution_count": null,
   "id": "e176af25-97dd-416c-b43a-cdbc4139a9de",
   "metadata": {},
   "outputs": [],
   "source": [
    "item_price = np.array([12,8,11])\n",
    "item_price"
   ]
  },
  {
   "cell_type": "code",
   "execution_count": null,
   "id": "b7dbb6e1-3d1f-4ef4-9d61-053d9f3b9628",
   "metadata": {},
   "outputs": [],
   "source": [
    "item_price.shape"
   ]
  },
  {
   "cell_type": "code",
   "execution_count": null,
   "id": "6d83177e-7f99-4b5d-9dfd-039f018e76ad",
   "metadata": {},
   "outputs": [],
   "source": [
    "item_price_df = pd.DataFrame(item_price.reshape(1,3),\n",
    "                             index=['item_price'],\n",
    "                             columns=['item1','item2','item3'])"
   ]
  },
  {
   "cell_type": "code",
   "execution_count": null,
   "id": "1f0fa4f2-b169-4445-a7ec-41649cf00ecd",
   "metadata": {},
   "outputs": [],
   "source": [
    "item_price_df"
   ]
  },
  {
   "cell_type": "code",
   "execution_count": null,
   "id": "b10ee596-fe4d-4c4f-b871-94730577db9a",
   "metadata": {},
   "outputs": [],
   "source": [
    "item_price_df.shape,item_amount.T.shape"
   ]
  },
  {
   "cell_type": "code",
   "execution_count": null,
   "id": "3b6212ec-b476-426c-83b3-d75e88e5e222",
   "metadata": {},
   "outputs": [],
   "source": [
    "total_price = item_price_df.dot(item_amount.T)"
   ]
  },
  {
   "cell_type": "code",
   "execution_count": null,
   "id": "894be992-0f5d-4d48-91b5-0e4eebc5152b",
   "metadata": {},
   "outputs": [],
   "source": [
    "total_price"
   ]
  },
  {
   "cell_type": "code",
   "execution_count": null,
   "id": "f0510b05-e470-4f18-96cd-e5b65fe9c537",
   "metadata": {},
   "outputs": [],
   "source": [
    "price = pd.DataFrame(total_price, index=['item_price']).T\n",
    "price.index = ['Mon', 'Tue', 'Wed', 'Thr', 'Fri']\n",
    "price.columns = ['item_price']\n",
    "price"
   ]
  },
  {
   "cell_type": "code",
   "execution_count": null,
   "id": "7b447386-288b-49da-a616-2f264a924ce2",
   "metadata": {},
   "outputs": [],
   "source": [
    "weekly_sales = pd.DataFrame(item_amount,index=['Mon', 'Tue', 'Wed', 'Thr', 'Fri'],columns=['item1','item2','item3'])\n"
   ]
  },
  {
   "cell_type": "code",
   "execution_count": null,
   "id": "aeefc7df-5059-4dfd-8154-6a9edfcb8673",
   "metadata": {},
   "outputs": [],
   "source": [
    "weekly_sales"
   ]
  },
  {
   "cell_type": "code",
   "execution_count": null,
   "id": "93e49597-2932-419f-b733-14fe3f87494a",
   "metadata": {},
   "outputs": [],
   "source": [
    "weekly_sales['Total'] = price"
   ]
  },
  {
   "cell_type": "code",
   "execution_count": null,
   "id": "379f9ee3-06a3-4de7-a5f5-5fa8065693dd",
   "metadata": {},
   "outputs": [],
   "source": [
    "weekly_sales"
   ]
  },
  {
   "cell_type": "markdown",
   "id": "bce62af7-f75f-47e9-936f-59a080025061",
   "metadata": {},
   "source": [
    "# Comparison Operator"
   ]
  },
  {
   "cell_type": "code",
   "execution_count": 87,
   "id": "1c8597c4-b8c8-4dff-a93d-07ec95db4bb5",
   "metadata": {},
   "outputs": [
    {
     "data": {
      "text/plain": [
       "array([1, 2, 3])"
      ]
     },
     "execution_count": 87,
     "metadata": {},
     "output_type": "execute_result"
    }
   ],
   "source": [
    "a1d"
   ]
  },
  {
   "cell_type": "code",
   "execution_count": 88,
   "id": "df6477e0-5d2d-4ad2-8a37-dbba62b9bf49",
   "metadata": {},
   "outputs": [
    {
     "data": {
      "text/plain": [
       "array([[1, 2, 3],\n",
       "       [5, 7, 9]])"
      ]
     },
     "execution_count": 88,
     "metadata": {},
     "output_type": "execute_result"
    }
   ],
   "source": [
    "a2d"
   ]
  },
  {
   "cell_type": "code",
   "execution_count": 89,
   "id": "31fefa4e-6095-486f-8323-3edfc4d7a543",
   "metadata": {},
   "outputs": [
    {
     "data": {
      "text/plain": [
       "array([[False, False, False],\n",
       "       [False, False, False]])"
      ]
     },
     "execution_count": 89,
     "metadata": {},
     "output_type": "execute_result"
    }
   ],
   "source": [
    "a1d>a2d"
   ]
  },
  {
   "cell_type": "code",
   "execution_count": 90,
   "id": "210e8627-8947-4b7e-9bf6-856e9b4a32a1",
   "metadata": {},
   "outputs": [
    {
     "data": {
      "text/plain": [
       "array([[False, False, False],\n",
       "       [ True,  True,  True]])"
      ]
     },
     "execution_count": 90,
     "metadata": {},
     "output_type": "execute_result"
    }
   ],
   "source": [
    "a1d<a2d"
   ]
  },
  {
   "cell_type": "code",
   "execution_count": 91,
   "id": "5be58121-3290-4f73-8053-367464067496",
   "metadata": {},
   "outputs": [
    {
     "data": {
      "text/plain": [
       "array([[ True,  True,  True],\n",
       "       [False, False, False]])"
      ]
     },
     "execution_count": 91,
     "metadata": {},
     "output_type": "execute_result"
    }
   ],
   "source": [
    "a1d == a2d"
   ]
  },
  {
   "cell_type": "code",
   "execution_count": 92,
   "id": "6f51ba21-d03a-4a4b-9d78-d812c2112544",
   "metadata": {},
   "outputs": [
    {
     "data": {
      "text/plain": [
       "array([[False, False, False],\n",
       "       [ True,  True,  True]])"
      ]
     },
     "execution_count": 92,
     "metadata": {},
     "output_type": "execute_result"
    }
   ],
   "source": [
    "a1d != a2d"
   ]
  },
  {
   "cell_type": "markdown",
   "id": "644458ad-90d7-4b1f-a99b-9229fbd42293",
   "metadata": {},
   "source": [
    "# Sorting Arrays"
   ]
  },
  {
   "cell_type": "code",
   "execution_count": 93,
   "id": "3dee6431-2c17-4aa8-919e-b9a2aead6887",
   "metadata": {},
   "outputs": [
    {
     "data": {
      "text/plain": [
       "array([[4, 3, 0, 3, 5],\n",
       "       [0, 2, 3, 8, 1],\n",
       "       [3, 3, 3, 7, 0]], dtype=int32)"
      ]
     },
     "execution_count": 93,
     "metadata": {},
     "output_type": "execute_result"
    }
   ],
   "source": [
    "random_matrix = np.random.randint(10,size=(3,5))\n",
    "random_matrix"
   ]
  },
  {
   "cell_type": "code",
   "execution_count": 94,
   "id": "960c4f79-a5ff-4430-81f9-ca67b787117a",
   "metadata": {},
   "outputs": [
    {
     "data": {
      "text/plain": [
       "array([[0, 2, 0, 3, 0],\n",
       "       [3, 3, 3, 7, 1],\n",
       "       [4, 3, 3, 8, 5]], dtype=int32)"
      ]
     },
     "execution_count": 94,
     "metadata": {},
     "output_type": "execute_result"
    }
   ],
   "source": [
    "np.sort(random_matrix)\n",
    "np.sort(random_matrix,axis=1)\n",
    "np.sort(random_matrix,axis=0)"
   ]
  },
  {
   "cell_type": "code",
   "execution_count": 95,
   "id": "3cd3175f-9694-417f-8db6-0018a15b253f",
   "metadata": {},
   "outputs": [
    {
     "data": {
      "text/plain": [
       "array([[0, 2, 0, 3, 0],\n",
       "       [3, 3, 3, 7, 1],\n",
       "       [4, 3, 3, 8, 5]], dtype=int32)"
      ]
     },
     "execution_count": 95,
     "metadata": {},
     "output_type": "execute_result"
    }
   ],
   "source": [
    "np.sort(random_matrix,axis=0)"
   ]
  },
  {
   "cell_type": "code",
   "execution_count": 96,
   "id": "72b5333c-74bf-4e79-8fc1-87b0442f4403",
   "metadata": {},
   "outputs": [
    {
     "data": {
      "text/plain": [
       "array([[2, 1, 3, 0, 4],\n",
       "       [0, 4, 1, 2, 3],\n",
       "       [4, 0, 2, 1, 3]])"
      ]
     },
     "execution_count": 96,
     "metadata": {},
     "output_type": "execute_result"
    }
   ],
   "source": [
    "np.argsort(random_matrix)"
   ]
  },
  {
   "cell_type": "code",
   "execution_count": 97,
   "id": "edb05f7d-311d-4c74-a921-7bf8574844a3",
   "metadata": {},
   "outputs": [
    {
     "data": {
      "text/plain": [
       "np.int64(2)"
      ]
     },
     "execution_count": 97,
     "metadata": {},
     "output_type": "execute_result"
    }
   ],
   "source": [
    "np.argmin(random_matrix)"
   ]
  },
  {
   "cell_type": "code",
   "execution_count": 98,
   "id": "f0c8c210-2f1a-42c8-a005-93445f34487b",
   "metadata": {},
   "outputs": [
    {
     "data": {
      "text/plain": [
       "array([2, 0, 4])"
      ]
     },
     "execution_count": 98,
     "metadata": {},
     "output_type": "execute_result"
    }
   ],
   "source": [
    "np.argmin(random_matrix,axis=1)"
   ]
  },
  {
   "cell_type": "code",
   "execution_count": 99,
   "id": "adb47465-522d-42f2-9500-2f28de8bc8d0",
   "metadata": {},
   "outputs": [
    {
     "data": {
      "text/plain": [
       "array([1, 1, 0, 0, 2])"
      ]
     },
     "execution_count": 99,
     "metadata": {},
     "output_type": "execute_result"
    }
   ],
   "source": [
    "np.argmin(random_matrix,axis=0)"
   ]
  },
  {
   "cell_type": "code",
   "execution_count": 100,
   "id": "4359cb0b-a162-43e7-8539-f8d92080a143",
   "metadata": {},
   "outputs": [
    {
     "data": {
      "text/plain": [
       "np.int64(8)"
      ]
     },
     "execution_count": 100,
     "metadata": {},
     "output_type": "execute_result"
    }
   ],
   "source": [
    "np.argmax(random_matrix)"
   ]
  },
  {
   "cell_type": "code",
   "execution_count": 101,
   "id": "81b3a449-f436-4ddf-9a60-701fa0bee6d7",
   "metadata": {},
   "outputs": [
    {
     "data": {
      "text/plain": [
       "array([4, 3, 3])"
      ]
     },
     "execution_count": 101,
     "metadata": {},
     "output_type": "execute_result"
    }
   ],
   "source": [
    "np.argmax(random_matrix,axis=1)"
   ]
  },
  {
   "cell_type": "code",
   "execution_count": 102,
   "id": "89f9d122-fe46-4dc3-a3f6-945d3980c7ab",
   "metadata": {},
   "outputs": [
    {
     "data": {
      "text/plain": [
       "array([0, 0, 1, 1, 0])"
      ]
     },
     "execution_count": 102,
     "metadata": {},
     "output_type": "execute_result"
    }
   ],
   "source": [
    "np.argmax(random_matrix,axis=0)\n"
   ]
  },
  {
   "cell_type": "markdown",
   "id": "d8dcec63-ee86-4aea-bbb4-a101e3a956f1",
   "metadata": {},
   "source": [
    "# Image data read"
   ]
  },
  {
   "cell_type": "code",
   "execution_count": 103,
   "id": "28279641-4814-4ccb-a0c5-f09488b5c653",
   "metadata": {},
   "outputs": [],
   "source": [
    "from matplotlib.image import imread"
   ]
  },
  {
   "cell_type": "code",
   "execution_count": 104,
   "id": "b79e9333-8040-4e80-975c-3a8404ce17fd",
   "metadata": {},
   "outputs": [],
   "source": [
    "img_data = imread('new.JPG')"
   ]
  },
  {
   "cell_type": "code",
   "execution_count": 105,
   "id": "aafc2631-c15e-455e-b444-966b102723ab",
   "metadata": {},
   "outputs": [
    {
     "data": {
      "text/plain": [
       "array([[[57, 27, 25],\n",
       "        [60, 30, 28],\n",
       "        [58, 30, 27],\n",
       "        ...,\n",
       "        [60, 70, 69],\n",
       "        [62, 72, 71],\n",
       "        [64, 74, 73]],\n",
       "\n",
       "       [[56, 25, 23],\n",
       "        [58, 28, 26],\n",
       "        [58, 28, 26],\n",
       "        ...,\n",
       "        [61, 71, 70],\n",
       "        [62, 72, 71],\n",
       "        [63, 73, 72]],\n",
       "\n",
       "       [[55, 24, 22],\n",
       "        [58, 27, 25],\n",
       "        [58, 28, 26],\n",
       "        ...,\n",
       "        [61, 71, 70],\n",
       "        [62, 72, 71],\n",
       "        [63, 73, 72]],\n",
       "\n",
       "       ...,\n",
       "\n",
       "       [[13, 15, 12],\n",
       "        [12, 14, 13],\n",
       "        [12, 12, 12],\n",
       "        ...,\n",
       "        [75, 74, 72],\n",
       "        [75, 74, 72],\n",
       "        [73, 72, 70]],\n",
       "\n",
       "       [[11, 13, 12],\n",
       "        [11, 13, 12],\n",
       "        [11, 13, 12],\n",
       "        ...,\n",
       "        [75, 76, 71],\n",
       "        [77, 76, 72],\n",
       "        [74, 73, 69]],\n",
       "\n",
       "       [[11, 13, 12],\n",
       "        [11, 13, 12],\n",
       "        [12, 14, 13],\n",
       "        ...,\n",
       "        [74, 75, 70],\n",
       "        [76, 77, 72],\n",
       "        [75, 76, 71]]], dtype=uint8)"
      ]
     },
     "execution_count": 105,
     "metadata": {},
     "output_type": "execute_result"
    }
   ],
   "source": [
    "img_data"
   ]
  },
  {
   "cell_type": "code",
   "execution_count": 106,
   "id": "f345552d-33a4-456f-8b2a-964dc87be6d0",
   "metadata": {},
   "outputs": [],
   "source": [
    "import matplotlib.pyplot as plt"
   ]
  },
  {
   "cell_type": "code",
   "execution_count": 107,
   "id": "a00a5475-c942-4ccb-a4d8-53803f52515a",
   "metadata": {},
   "outputs": [
    {
     "data": {
      "image/png": "[encoded data removed]",
      "text/plain": [
       "<Figure size 640x480 with 1 Axes>"
      ]
     },
     "metadata": {},
     "output_type": "display_data"
    }
   ],
   "source": [
    "plt.figure()\n",
    "plt.imshow(img_data)\n",
    "plt.show()"
   ]
  },
  {
   "cell_type": "code",
   "execution_count": 108,
   "id": "d0f03e9d-03c6-4171-9116-182907fb284c",
   "metadata": {},
   "outputs": [
    {
     "data": {
      "text/plain": [
       "(3456, 5184, 3)"
      ]
     },
     "execution_count": 108,
     "metadata": {},
     "output_type": "execute_result"
    }
   ],
   "source": [
    "img_data.shape\n"
   ]
  },
  {
   "cell_type": "code",
   "execution_count": null,
   "id": "01831555-f446-4eca-abdb-74210bf9a07a",
   "metadata": {},
   "outputs": [],
   "source": []
  },
  {
   "cell_type": "code",
   "execution_count": null,
   "id": "1eb64c53-b673-43e4-93ef-5b77aa605c97",
   "metadata": {},
   "outputs": [],
   "source": []
  },
  {
   "cell_type": "code",
   "execution_count": null,
   "id": "49b4cb4f-e62e-466d-bb1e-4b7cdb3db950",
   "metadata": {},
   "outputs": [],
   "source": []
  },
  {
   "cell_type": "code",
   "execution_count": null,
   "id": "ddcfc66c-bfb9-4f0b-a8ec-b6c9fe503162",
   "metadata": {},
   "outputs": [],
   "source": []
  },
  {
   "cell_type": "code",
   "execution_count": null,
   "id": "78efed10-511b-4dba-9785-e4ce8230322e",
   "metadata": {},
   "outputs": [],
   "source": []
  },
  {
   "cell_type": "code",
   "execution_count": null,
   "id": "824837af-a40b-47eb-9b22-ae7fe91ed38c",
   "metadata": {},
   "outputs": [],
   "source": []
  },
  {
   "cell_type": "code",
   "execution_count": null,
   "id": "3e1319ec-1b09-4a5b-8a0f-98b2991feb8e",
   "metadata": {},
   "outputs": [],
   "source": []
  },
  {
   "cell_type": "code",
   "execution_count": null,
   "id": "fe3aa3e9-dc71-4b38-9afa-bad628c34fdb",
   "metadata": {},
   "outputs": [],
   "source": []
  },
  {
   "cell_type": "code",
   "execution_count": null,
   "id": "5f1fbed2-caa3-42d1-b076-d32bee0b8a0d",
   "metadata": {},
   "outputs": [],
   "source": []
  },
  {
   "cell_type": "code",
   "execution_count": null,
   "id": "7f96b28b-2c8f-4e9e-99bc-c90fd156321c",
   "metadata": {},
   "outputs": [],
   "source": []
  },
  {
   "cell_type": "code",
   "execution_count": null,
   "id": "adda4a38-a2c7-4daa-92d6-62e0e32a8244",
   "metadata": {},
   "outputs": [],
   "source": []
  }
 ],
 "metadata": {
  "kernelspec": {
   "display_name": "Python 3 (ipykernel)",
   "language": "python",
   "name": "python3"
  },
  "language_info": {
   "codemirror_mode": {
    "name": "ipython",
    "version": 3
   },
   "file_extension": ".py",
   "mimetype": "text/x-python",
   "name": "python",
   "nbconvert_exporter": "python",
   "pygments_lexer": "ipython3",
   "version": "3.13.1"
  }
 },
 "nbformat": 4,
 "nbformat_minor": 5
}
